{
  "nbformat": 4,
  "nbformat_minor": 0,
  "metadata": {
    "colab": {
      "provenance": [],
      "authorship_tag": "ABX9TyPBliTWvPTt9RAS4H6he4/l",
      "include_colab_link": true
    },
    "kernelspec": {
      "name": "python3",
      "display_name": "Python 3"
    },
    "language_info": {
      "name": "python"
    }
  },
  "cells": [
    {
      "cell_type": "markdown",
      "metadata": {
        "id": "view-in-github",
        "colab_type": "text"
      },
      "source": [
        "<a href=\"https://colab.research.google.com/github/Dei-gratia/Android-CandyCodedApplication/blob/master/Machine%20Learning%20%26%20Deep%20Learning%20Projects/CNN_for_Binary_Image_Classification.ipynb\" target=\"_parent\"><img src=\"https://colab.research.google.com/assets/colab-badge.svg\" alt=\"Open In Colab\"/></a>"
      ]
    },
    {
      "cell_type": "code",
      "execution_count": 1,
      "metadata": {
        "id": "1lxUF9NDF-q6"
      },
      "outputs": [],
      "source": [
        "#install the dependences\n",
        "import numpy as np\n",
        "import pandas as pd\n",
        "import matplotlib.pyplot as plt\n",
        "import tensorflow as tf"
      ]
    },
    {
      "cell_type": "markdown",
      "source": [
        "# Importing the dataset"
      ],
      "metadata": {
        "id": "53LIOGTzED5X"
      }
    },
    {
      "cell_type": "code",
      "source": [
        "#configure the path for kaggle .json file\n",
        "!mkdir -p ~/.kaggle\n",
        "!cp kaggle.json ~/.kaggle/\n",
        "!chmod 600 ~/.kaggle/kaggle.json"
      ],
      "metadata": {
        "id": "wTWfUJrwCAcg"
      },
      "execution_count": 2,
      "outputs": []
    },
    {
      "cell_type": "code",
      "source": [
        "#import the dataset from kaggle\n",
        "!kaggle datasets download -d tongpython/cat-and-dog"
      ],
      "metadata": {
        "colab": {
          "base_uri": "https://localhost:8080/"
        },
        "id": "Z8VCGlGOBDhu",
        "outputId": "c25a602a-c779-400f-f0e4-3cb5578264b8"
      },
      "execution_count": 3,
      "outputs": [
        {
          "output_type": "stream",
          "name": "stdout",
          "text": [
            "Dataset URL: https://www.kaggle.com/datasets/tongpython/cat-and-dog\n",
            "License(s): CC0-1.0\n",
            "Downloading cat-and-dog.zip to /content\n",
            " 96% 209M/218M [00:01<00:00, 176MB/s]\n",
            "100% 218M/218M [00:01<00:00, 140MB/s]\n"
          ]
        }
      ]
    },
    {
      "cell_type": "code",
      "source": [
        "# unzipping the dataset\n",
        "! unzip -q /content/cat-and-dog.zip"
      ],
      "metadata": {
        "id": "HMuDTkIMDF1l"
      },
      "execution_count": 4,
      "outputs": []
    },
    {
      "cell_type": "markdown",
      "source": [
        "# Building the model"
      ],
      "metadata": {
        "id": "gFHoZCzIEJCW"
      }
    },
    {
      "cell_type": "code",
      "source": [
        "#initialise the CNN\n",
        "model = tf.keras.models.Sequential()\n",
        "\n",
        "#first CNN layer\n",
        "model.add(tf.keras.layers.Conv2D(filters=64, kernel_size=3, padding='same', activation='relu', input_shape=[32, 32, 3]))\n",
        "\n",
        "#maxpool layer\n",
        "model.add(tf.keras.layers.MaxPool2D(pool_size=(2, 2), strides=2, padding='valid'))\n",
        "\n",
        "#second CNN layer\n",
        "model.add(tf.keras.layers.Conv2D(filters=64, kernel_size=3, padding='same', activation='relu', input_shape=[32, 32, 3]))\n",
        "\n",
        "#maxpool layer\n",
        "model.add(tf.keras.layers.MaxPool2D(pool_size=(2, 2), strides=2, padding='valid'))\n",
        "\n",
        "#flattening layer\n",
        "model.add(tf.keras.layers.Flatten())\n",
        "\n",
        "#dropout layer\n",
        "model.add(tf.keras.layers.Dropout(0.4))\n",
        "\n",
        "#fully connected layer\n",
        "model.add(tf.keras.layers.Dense(units=128, activation='relu'))\n",
        "\n",
        "#output layer\n",
        "model.add(tf.keras.layers.Dense(units=1, activation='sigmoid'))"
      ],
      "metadata": {
        "id": "pK3dfNFJDX7w"
      },
      "execution_count": 6,
      "outputs": []
    },
    {
      "cell_type": "code",
      "source": [
        "#compile the model\n",
        "model.compile(optimizer='adam', loss='binary_crossentropy', metrics= ['accuracy'])"
      ],
      "metadata": {
        "id": "OrNlaSuEHRzE"
      },
      "execution_count": 7,
      "outputs": []
    }
  ]
}